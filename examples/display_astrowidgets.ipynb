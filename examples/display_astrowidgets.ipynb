{
 "cells": [
  {
   "cell_type": "code",
   "execution_count": null,
   "id": "faa4b257",
   "metadata": {},
   "outputs": [],
   "source": [
    "# This shouldn't be necessary if astrowidgets is setup in .user_setups\n",
    "import sys\n",
    "# sys.path.append(\"/sdf/home/czw/dev/DM-34756/display_astrowidgets/python/\")"
   ]
  },
  {
   "cell_type": "code",
   "execution_count": null,
   "id": "3d97bdc9",
   "metadata": {},
   "outputs": [],
   "source": [
    "import lsst.afw.display\n",
    "import lsst.display.astrowidgets\n",
    "lsst.afw.display.setDefaultBackend(\"astrowidgets\")"
   ]
  },
  {
   "cell_type": "code",
   "execution_count": null,
   "id": "660c4621",
   "metadata": {},
   "outputs": [],
   "source": [
    "# Create a display object:\n",
    "display = lsst.afw.display.Display(dims=(800, 600))  # size in screen pixels\n",
    "display.embed()"
   ]
  },
  {
   "cell_type": "code",
   "execution_count": null,
   "id": "649756d5",
   "metadata": {},
   "outputs": [],
   "source": [
    "# Simulate an image for display:\n",
    "import lsst.geom as geom\n",
    "import lsst.afw.image as afwImage\n",
    "import lsst.afw.math as afwMath\n",
    "\n",
    "exposure = afwImage.ExposureF(100, 50)\n",
    "afwMath.randomGaussianImage(exposure.image, afwMath.Random())\n",
    "exposure.getMaskedImage().setXY0(10, 5)\n",
    "exposure.image[0, 0, afwImage.LOCAL] = 20\n",
    "exposure.mask[10, 5] = exposure.mask.getPlaneBitMask(\"EDGE\")\n",
    "exposure.image[-1, -1, afwImage.LOCAL] = 30\n",
    "exposure.image[geom.BoxI(geom.PointI(50, 22), geom.ExtentI(1, 2))] = 40\n",
    "exposure.mask[50, 22] = 0x5"
   ]
  },
  {
   "cell_type": "code",
   "execution_count": null,
   "id": "552decb7",
   "metadata": {},
   "outputs": [],
   "source": [
    "# Load an image for display:\n",
    "# import lsst.afw.image as afwImage\n",
    "#\n",
    "# image = '/home/czw/postISRCCD.fits'\n",
    "# exposure = afwImage.ExposureF.readFits(image)"
   ]
  },
  {
   "cell_type": "code",
   "execution_count": null,
   "id": "9ffa3855",
   "metadata": {},
   "outputs": [],
   "source": [
    "# The information bar should display (X,Y), (RA, DEC), and pixel value.\n",
    "display.mtv(exposure)"
   ]
  },
  {
   "cell_type": "markdown",
   "id": "829e2dd0",
   "metadata": {},
   "source": [
    "## Useful Keyboard Shortcuts.\n",
    "\n",
    "Ginga supplies interactive keyboard commands as listed in the table below.  The left set should always be active.  The right set need to have the appropriate mode selected by typing space-\\<letter>.  More details available at https://ginga.readthedocs.io/en/stable/quickref.html\n",
    "\n",
    "    \n",
    "    \n",
    "| Key | Action |                                       | Mode   | Key | Action |\n",
    "|:----|:-------|---------------------------------------|-------:|----:|--------|\n",
    "|  \\` | Recenter and zoom to fit.                    | | Space-d|     | Distribution mode: |\n",
    "|{1-0}| Zoom to #x scale.                            | |        | b, Up | Previous distribution function. |\n",
    "|S-{1-0} | Zoom to 1/#x scale.                       | |        | n, Down | Next distribution function. |\n",
    "|  p  | Recenter image to mouse location.            | | Space-s|     | Cut mode: |\n",
    "|  c  | Recenter to image center.                    | |        | b, Up | Previous cut function. |\n",
    "| Middle mouse | Recenter image to mouse location.   | |        | n, Down | Next cut function. |\n",
    "|  \\[ | Horizontal flip.                             | |        | Left mouse | Drag to set high/low cut levels. |\n",
    "|  \\] | Vertical flip.                               | |        | C-Left mouse | Drag to set only low cut level. |\n",
    "|  \\\\ | Transpose image.                             | |        | S-Left mouse | Drag to set only high cut level. |\n",
    "|  R  | Reset image to default orientation.          | |        | h   | Set high cut level to current pixel value. |\n",
    "|  a  | Auto-contrast.                               | |        | l   | Set low cut level to current pixel value. |\n",
    "|  D  | Reset color distribution to linear.          | |        | S   | Set cut levels to min/max. |\n",
    "|  T  | Reset contrast to default.                   | | Space-t|     | Contrast mode: |\n",
    "|  Y  | Reset colormap to grayscale.                 | |        | Left mouse | Drag to set contrast and offset. |\n",
    "|  I  | Invert colormap.                             | | Space-y|     | Colormap mode: |\n",
    "|     |                                              | |        | b, Up | Previous color map. |\n",
    "|     |                                              | |        | n, Down | Next color map. |\n",
    "|     |                                              | |        | c   | Toggle color bar. |\n",
    "|     |                                              | | Space-r|     | Rotation mode: |\n",
    "|     |                                              | |        | Left mouse | Free rotation about current center. |\n",
    "\n",
    "There are also python commands on the display object:"
   ]
  },
  {
   "cell_type": "code",
   "execution_count": null,
   "id": "5aa75ca6",
   "metadata": {},
   "outputs": [],
   "source": [
    "# Enable the color bar display: \n",
    "display.show_color_bar(show=True)"
   ]
  },
  {
   "cell_type": "code",
   "execution_count": null,
   "id": "29a85784",
   "metadata": {},
   "outputs": [],
   "source": [
    "# Disable the color bar display: \n",
    "display.show_color_bar(show=False)"
   ]
  },
  {
   "cell_type": "code",
   "execution_count": null,
   "id": "f045f391",
   "metadata": {},
   "outputs": [],
   "source": [
    "# Enable the center of the frame marker:\n",
    "display.show_pan_mark(show=True, color='blue')"
   ]
  },
  {
   "cell_type": "code",
   "execution_count": null,
   "id": "c02f17e0",
   "metadata": {},
   "outputs": [],
   "source": [
    "# Disable the center of the frame marker:\n",
    "display.show_pan_mark(show=False, color='blue')"
   ]
  },
  {
   "cell_type": "code",
   "execution_count": null,
   "id": "25a28732",
   "metadata": {},
   "outputs": [],
   "source": [
    "# Change mask transparency.  This only changes when the image is refreshed/reloaded.\n",
    "display._setMaskTransparency(90)\n",
    "display._getMaskTransparency()"
   ]
  },
  {
   "cell_type": "code",
   "execution_count": null,
   "id": "bc7ccb5b",
   "metadata": {},
   "outputs": [],
   "source": [
    "# Change the scale, zoom level, and current image center, then make a jpeg.\n",
    "display._scale('linear', 20, 100, '')\n",
    "display._zoom(0.9)\n",
    "display._pan(1000, 0)\n",
    "display._show()  # This is a static view."
   ]
  },
  {
   "cell_type": "code",
   "execution_count": null,
   "id": "cfad7654",
   "metadata": {},
   "outputs": [],
   "source": [
    "# A second copy of the display can be embedded to reduce the amount of scrolling needed.\n",
    "# In the RSP/jupyter-lab, the display can be sent to a new tab/new view.\n",
    "# This is still the same display object, so any change done here will be done above as well.\n",
    "display.embed()"
   ]
  },
  {
   "cell_type": "markdown",
   "id": "21f67148",
   "metadata": {},
   "source": [
    "## Markers and drawing objects.\n",
    "\n",
    "All markers have a name associated with them, so they can be accessed and deleted by name."
   ]
  },
  {
   "cell_type": "code",
   "execution_count": null,
   "id": "6988d88c",
   "metadata": {
    "scrolled": false
   },
   "outputs": [],
   "source": [
    "# Points added with the _dot method have the marker name \"_dot\":\n",
    "display._dot('*', 100, 100, 50, 'green')\n",
    "display._dot('+', 90, 90, 40, 'red')\n",
    "display._dot('x', 80, 80, 30, 'blue')\n",
    "display._dot('o', 70, 70, 20, 'yellow')\n",
    "\n",
    "display.getMarkers('_dot')"
   ]
  },
  {
   "cell_type": "code",
   "execution_count": null,
   "id": "b60de663",
   "metadata": {},
   "outputs": [],
   "source": [
    "# Interactive marking needs to be launched from python.\n",
    "#\n",
    "# Parameters\n",
    "# ----------\n",
    "# symb : `str`, optional\n",
    "#    Symbol type to use.  One of '*', 'x', 'o', '+', '.'.\n",
    "#    Default is '+'.\n",
    "# ctype : `str`, optional\n",
    "#    Color to use.  Default is 'cyan'.\n",
    "# size : `int`, optional\n",
    "#    Symbol size.  Default is 10.\n",
    "# label : `str`, optional.\n",
    "#    Marker name for these points.  Default is 'interactive'.\n",
    "\n",
    "display.beginMarking()"
   ]
  },
  {
   "cell_type": "code",
   "execution_count": null,
   "id": "8b19cff2",
   "metadata": {},
   "outputs": [],
   "source": [
    "# To stop adding new markers:\n",
    "display.endMarking()\n",
    "\n",
    "# Get the table of values:\n",
    "T = display.getMarkers()\n",
    "T"
   ]
  },
  {
   "cell_type": "code",
   "execution_count": null,
   "id": "5da345c9",
   "metadata": {},
   "outputs": [],
   "source": [
    "# Link a set of markers together with lines. \n",
    "#\n",
    "# Parameters\n",
    "# ----------\n",
    "# ctype : `str`, optional\n",
    "#    Color to link markers with.  Default is 'brown'.\n",
    "# label : `str`, optional\n",
    "#    Marker set to link.  Default is 'interactive'.\n",
    "display.linkMarkers(label='_dot')"
   ]
  },
  {
   "cell_type": "code",
   "execution_count": null,
   "id": "c2ecc5bb",
   "metadata": {},
   "outputs": [],
   "source": [
    "# Arbitrarily draw lines on the image, in image coordinates.\n",
    "#\n",
    "# Parameters\n",
    "# ----------\n",
    "# points : `list` [`tuple`]\n",
    "#    List of points to connect with lines.  The tuple\n",
    "#    contains the x and y pixel position.\n",
    "# ctype : `str`\n",
    "#    Color to draw the lines with.\n",
    "display._drawLines([(50, 50), (40, 40), (0, 100), (100, 0)], 'magenta')"
   ]
  },
  {
   "cell_type": "code",
   "execution_count": null,
   "id": "27c21a3c",
   "metadata": {},
   "outputs": [],
   "source": [
    "# Clear the markers:\n",
    "# \n",
    "# Parameters\n",
    "# ----------\n",
    "# label : `str`, optional\n",
    "#    Marker set to clear.  If not supplied or is None, all markers are cleared.\n",
    "display.clearMarkers()"
   ]
  },
  {
   "cell_type": "code",
   "execution_count": null,
   "id": "e6442419",
   "metadata": {},
   "outputs": [],
   "source": [
    "# Lines can be cleared separately:\n",
    "#\n",
    "display.clearLines()"
   ]
  },
  {
   "cell_type": "code",
   "execution_count": null,
   "id": "55486fbf",
   "metadata": {},
   "outputs": [],
   "source": [
    "# This is unnecessary, but will clear everything.\n",
    "display._gingaViewer.canvas.delete_all_objects()  # This clears everything.  Image, mask, everything."
   ]
  },
  {
   "cell_type": "code",
   "execution_count": null,
   "id": "2ac6e4a4",
   "metadata": {},
   "outputs": [],
   "source": [
    "type(T)"
   ]
  },
  {
   "cell_type": "code",
   "execution_count": null,
   "id": "58de9616",
   "metadata": {},
   "outputs": [],
   "source": []
  }
 ],
 "metadata": {
  "kernelspec": {
   "display_name": "Python 3 (ipykernel)",
   "language": "python",
   "name": "python3"
  },
  "language_info": {
   "codemirror_mode": {
    "name": "ipython",
    "version": 3
   },
   "file_extension": ".py",
   "mimetype": "text/x-python",
   "name": "python",
   "nbconvert_exporter": "python",
   "pygments_lexer": "ipython3",
   "version": "3.10.5"
  }
 },
 "nbformat": 4,
 "nbformat_minor": 5
}
